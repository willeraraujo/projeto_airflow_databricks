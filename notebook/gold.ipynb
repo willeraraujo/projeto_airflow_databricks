{
 "cells": [
  {
   "cell_type": "code",
   "execution_count": 0,
   "metadata": {
    "application/vnd.databricks.v1+cell": {
     "cellMetadata": {
      "byteLimit": 2048000,
      "rowLimit": 10000
     },
     "inputWidgets": {},
     "nuid": "340a3f8c-943e-4fc4-8a66-0fb3e1cdd592",
     "showTitle": false,
     "tableResultSettingsMap": {},
     "title": ""
    }
   },
   "outputs": [],
   "source": [
    "from pyspark.sql.types import StructType, StructField, StringType, LongType\n",
    "from pyspark.sql.functions import count, col\n",
    "\n",
    "# # Catalog and table name\n",
    "catalog_name = \"datricks_airflow_azure\"\n",
    "schema_name = \"gold\"\n",
    "table_name = \"project_brewery\"\n",
    "full_table_name = f\"{catalog_name}.{schema_name}.{table_name}\"\n",
    "\n",
    "\n",
    "# Apply comments\n",
    "def adicionaComentariosTabela(catalog, schema, table, table_comment, col_comments):\n",
    "    spark.sql(f\"COMMENT ON TABLE {catalog}.{schema}.{table} IS '{table_comment}'\")\n",
    "    schema_struct = spark.table(f\"{catalog}.{schema}.{table}\").schema\n",
    "    for field in schema_struct:\n",
    "        if field.name in col_comments:\n",
    "            tipo = field.dataType.simpleString()\n",
    "            comentario = col_comments[field.name]\n",
    "            sql = f\"ALTER TABLE {catalog}.{schema}.{table} CHANGE COLUMN {field.name} {field.name} {tipo} COMMENT '{comentario}'\"\n",
    "            spark.sql(sql)\n",
    "\n",
    "# Define the schema\n",
    "schema = StructType([\n",
    "    StructField(\"state_province\", StringType(), True),\n",
    "    StructField(\"brewery_type\", StringType(), True),\n",
    "    StructField(\"brewery_count\", LongType(), True)\n",
    "])\n",
    "\n",
    "\n",
    "table_comment = \"Aggregated brewery count per type and location from Silver layer\"\n",
    "\n",
    "\n",
    "column_comments = {\n",
    "    \"state_province\": \"Province or state where the brewery is located\",\n",
    "    \"brewery_type\": \"Type/category of brewery\",\n",
    "    \"brewery_count\": \"Number of breweries in the given location and type\"\n",
    "}\n",
    "\n",
    "# Check table exists\n",
    "def table_exists(catalog, schema, table):\n",
    "    try:\n",
    "        spark.table(f\"{catalog}.{schema}.{table}\")\n",
    "        return True\n",
    "    except:\n",
    "        return False\n",
    "\n",
    "# Read Sillver Data\n",
    "df_silver = spark.read.table(\"datricks_airflow_azure.silver.project_brewery\")\n",
    "\n",
    "# Agregação\n",
    "df_gold = df_silver.groupBy(\"state_province\", \"brewery_type\").agg(\n",
    "    count(\"*\").alias(\"brewery_count\")\n",
    ")\n",
    "\n",
    "# Cast columns dynamically based on the schema\n",
    "for field in schema.fields:\n",
    "    df_gold = df_gold.withColumn(field.name, col(field.name).cast(field.dataType))\n",
    "\n",
    "# Write Table\n",
    "if table_exists(catalog_name, schema_name, table_name):\n",
    "    df_gold.write \\\n",
    "        .format(\"delta\") \\\n",
    "        .mode(\"overwrite\") \\\n",
    "        .partitionBy(\"state_province\") \\\n",
    "        .saveAsTable(name = f\"{catalog_name}.{schema_name}.{table_name}\")\n",
    "    print(f\"Overwrite to existing Delta table: {full_table_name}\")\n",
    "\n",
    "else:\n",
    "    # Create schema if not exists\n",
    "    spark.sql(f\"CREATE SCHEMA IF NOT EXISTS {catalog_name}.{schema_name}\")\n",
    "\n",
    "    # If not exists, write and register in catalog\n",
    "    df_gold.write \\\n",
    "        .mode(\"overwrite\") \\\n",
    "        .partitionBy(\"state_province\") \\\n",
    "        .option(\"overwriteSchema\", \"true\") \\\n",
    "        .saveAsTable(name = f\"{catalog_name}.{schema_name}.{table_name}\")\n",
    "\n",
    "    adicionaComentariosTabela(catalog_name, schema_name, table_name, table_comment, column_comments)\n",
    "    print(f\"Delta table created and registered: {full_table_name}\")"
   ]
  }
 ],
 "metadata": {
  "application/vnd.databricks.v1+notebook": {
   "computePreferences": null,
   "dashboards": [],
   "environmentMetadata": {
    "base_environment": "",
    "environment_version": "2"
   },
   "inputWidgetPreferences": null,
   "language": "python",
   "notebookMetadata": {
    "pythonIndentUnit": 4
   },
   "notebookName": "gold",
   "widgets": {}
  },
  "language_info": {
   "name": "python"
  }
 },
 "nbformat": 4,
 "nbformat_minor": 0
}

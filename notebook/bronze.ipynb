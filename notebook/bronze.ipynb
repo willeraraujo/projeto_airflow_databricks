{
 "cells": [
  {
   "cell_type": "code",
   "execution_count": 0,
   "metadata": {
    "application/vnd.databricks.v1+cell": {
     "cellMetadata": {
      "byteLimit": 2048000,
      "rowLimit": 10000
     },
     "inputWidgets": {},
     "nuid": "1e23d6b7-2954-4dea-b64c-053185538dee",
     "showTitle": false,
     "tableResultSettingsMap": {},
     "title": ""
    }
   },
   "outputs": [],
   "source": [
    "import requests\n",
    "import json\n",
    "import time\n",
    "from pyspark.sql.functions import col, count, isnan, when\n",
    "\n",
    "# Configurations\n",
    "url_base = \"https://api.openbrewerydb.org/v1/breweries\"\n",
    "metadata_url = f\"{url_base}/meta\"\n",
    "path_bronze = \"abfss://lakehouse@projectabi.dfs.core.windows.net/bronze/open_brewery\"\n",
    "per_page = 50\n",
    "\n",
    "# Retry function to handle API failures\n",
    "def get_page_with_retry(url, retries=3, delay=2):\n",
    "    for attempt in range(retries):\n",
    "        try:\n",
    "            response = requests.get(url, timeout=10)\n",
    "            if response.status_code == 200:\n",
    "                return response.json()\n",
    "        except requests.RequestException as e:\n",
    "            print(f\"Attempt {attempt + 1} failed: {e}\")\n",
    "        time.sleep(delay)\n",
    "    return []\n",
    "\n",
    "#Get the total number of records\n",
    "response = requests.get(metadata_url)\n",
    "metadata = response.json()\n",
    "total = metadata['total']\n",
    "total_pages = (total // per_page) + (1 if total % per_page > 0 else 0)\n",
    "\n",
    "# Collect paginated data\n",
    "all_breweries = []\n",
    "for page in range(1, total_pages + 1):\n",
    "    page_data = get_page_with_retry(f\"{url_base}?page={page}&per_page={per_page}\")\n",
    "    all_breweries.extend(page_data)\n",
    "\n",
    "# Convert data to Spark DataFrame\n",
    "df = spark.createDataFrame(all_breweries)\n",
    "\n",
    "# Reorder columns for consistency\n",
    "ordered_columns = [\n",
    "    \"id\", \"name\", \"brewery_type\", \"address_1\", \"address_2\", \"address_3\", \n",
    "    \"city\", \"state_province\", \"postal_code\", \"country\", \"longitude\", \n",
    "    \"latitude\", \"phone\", \"website_url\", \"state\", \"street\"\n",
    "]\n",
    "df = df.select(*[c for c in ordered_columns if c in df.columns])\n",
    "\n",
    "#Apply basic data quality rules\n",
    "df_clean = df.filter(\n",
    "    col(\"id\").isNotNull() &\n",
    "    col(\"state\").isNotNull() \n",
    ")\n",
    "\n",
    "# Generate Data Quality Report\n",
    "def generate_quality_report(df, columns):\n",
    "    total = df.count()\n",
    "    for col_name in columns:\n",
    "        nulls = df.filter(col(col_name).isNull() | isnan(col(col_name))).count()\n",
    "        percent = round((nulls / total) * 100, 2)\n",
    "        print(f\"Column: {col_name} | Nulls: {nulls} | % Nulls: {percent}%\")\n",
    "\n",
    "print(\"===== Data Quality Report =====\")\n",
    "generate_quality_report(df, ordered_columns)\n",
    "\n",
    "# Save as JSON to Bronze layer\n",
    "df_clean.write.mode(\"overwrite\").json(path_bronze)"
   ]
  }
 ],
 "metadata": {
  "application/vnd.databricks.v1+notebook": {
   "computePreferences": null,
   "dashboards": [],
   "environmentMetadata": {
    "base_environment": "",
    "environment_version": "2"
   },
   "inputWidgetPreferences": null,
   "language": "python",
   "notebookMetadata": {
    "pythonIndentUnit": 4
   },
   "notebookName": "bronze",
   "widgets": {}
  },
  "language_info": {
   "name": "python"
  }
 },
 "nbformat": 4,
 "nbformat_minor": 0
}
